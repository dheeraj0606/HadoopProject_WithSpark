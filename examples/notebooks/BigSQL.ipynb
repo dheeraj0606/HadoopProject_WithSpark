{
 "cells": [
    {
   "cell_type": "markdown",
   "metadata": {},
   "source": [
    "Also see: https://datascience.ibm.com/docs/content/analyze-data/python_load.html"
   ]
  },
  {
   "cell_type": "markdown",
   "metadata": {},
   "source": [
    "Connection details"
   ]
  },
  {
   "cell_type": "code",
   "execution_count": null,
   "metadata": {
    "collapsed": false
   },
   "outputs": [],
   "source": [
    "# Cluster number, e.g. 10000\n",
    "cluster  = ''\n",
    "\n",
    "# Cluster username for BigSQL\n",
    "username = ''\n",
    "\n",
    "# Cluster password for BigSQL\n",
    "password = ''\n",
    "\n",
    "# BigSQL host number, e.g. 2\n",
    "bigsqlhost = '2'\n",
    "\n",
    "# Bigsql table name, e.g. MYSCHEMA.MYTABLE\n",
    "bigsqltable = ''"
   ]
  },
  {
   "cell_type": "markdown",
   "metadata": {
    "collapsed": false
   },
   "source": [
    "Cluster URLs"
   ]
  },
  {
   "cell_type": "code",
   "execution_count": null,
   "metadata": {
    "collapsed": false
   },
   "outputs": [],
   "source": [
    "import os\n",
    "cwd = os.getcwd()\n",
    "\n",
    "cls_host = 'ehaasp-{0}-mastermanager.bi.services.bluemix.net'.format(cluster)\n",
    "sql_host = 'ehaasp-{0}-master-{1}.bi.services.bluemix.net'.format(cluster, bigsqlhost)"
   ]
  },
  {
   "cell_type": "markdown",
   "metadata": {},
   "source": [
    "Use openssl on the spark service to get the cluster certificate"
   ]
  },
  {
   "cell_type": "code",
   "execution_count": null,
   "metadata": {
    "collapsed": false
   },
   "outputs": [],
   "source": [
    "!openssl s_client -showcerts -connect {cls_host}:9443 < /dev/null | openssl x509 -outform PEM > certificate\n",
    "!rm -f truststore.jks\n",
    "!keytool -import -trustcacerts -alias biginsights -file certificate -keystore truststore.jks -storepass mypassword -noprompt"
   ]
  },
  {
   "cell_type": "markdown",
   "metadata": {},
   "source": [
    "Now attempt to connect to BigInsights on Cloud and print a count of rows in the bigsqltable"
   ]
  },
  {
   "cell_type": "code",
   "execution_count": null,
   "metadata": {
    "collapsed": false
   },
   "outputs": [],
   "source": [
    "url  = 'jdbc:db2://{0}:51000/bigsql:user={1};password={2};sslConnection=true;' \\\n",
    "       'sslTrustStoreLocation={3}/truststore.jks;Password=mypassword;'.format(sql_host, username, password, cwd)\n",
    "\n",
    "df = sqlContext.read.format('jdbc').options(\n",
    "            url=url, \n",
    "            driver='com.ibm.db2.jcc.DB2Driver', \n",
    "            dbtable=bigsqltable\n",
    "        ).load()\n",
    "\n",
    "print(df.count())"
   ]
  }
 ],
 "metadata": {
  "kernelspec": {
   "display_name": "Python 2",
   "language": "python",
   "name": "python2"
  },
  "language_info": {
   "codemirror_mode": {
    "name": "ipython",
    "version": 2
   },
   "file_extension": ".py",
   "mimetype": "text/x-python",
   "name": "python",
   "nbconvert_exporter": "python",
   "pygments_lexer": "ipython2",
   "version": "2.7.11"
  }
 },
 "nbformat": 4,
 "nbformat_minor": 0
}
